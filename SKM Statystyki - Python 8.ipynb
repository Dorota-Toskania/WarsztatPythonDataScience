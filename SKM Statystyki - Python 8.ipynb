{
 "cells": [
  {
   "cell_type": "markdown",
   "metadata": {},
   "source": [
    "# Wykład 8 - Web Scraping, Machine Learning\n",
    "\n"
   ]
  },
  {
   "cell_type": "code",
   "execution_count": null,
   "metadata": {},
   "outputs": [],
   "source": []
  },
  {
   "cell_type": "markdown",
   "metadata": {},
   "source": [
    "https://github.com/MichalKorzycki/WarsztatPythonDataScience.git/"
   ]
  },
  {
   "cell_type": "markdown",
   "metadata": {},
   "source": [
    "---\n",
    "## Lista obecności\n",
    "## http://bit.ly/SKNSwyklad1803 "
   ]
  },
  {
   "cell_type": "markdown",
   "metadata": {},
   "source": [
    "---"
   ]
  },
  {
   "cell_type": "markdown",
   "metadata": {},
   "source": [
    "---\n",
    "## Zadanie 2\n",
    "Wypisać linki ogłoszeń z:\n",
    "https://www.gumtree.pl/s-mieszkania-i-domy-sprzedam-i-kupie/v1c9073p1"
   ]
  },
  {
   "cell_type": "code",
   "execution_count": null,
   "metadata": {},
   "outputs": [],
   "source": [
    "import scrapy\n",
    "from scrapy.crawler import CrawlerProcess\n",
    "from scrapy.http import Request\n",
    "\n",
    "\n",
    "class GumtreeApartmentsSpider(scrapy.Spider):\n",
    "    name = 'gumtreeapartmentsspider'\n",
    "    start_urls = [\n",
    "        'https://www.gumtree.pl/s-mieszkania-i-domy-sprzedam-i-kupie/warszawa/v1c9073l3200008p1/'\n",
    "        ]\n",
    "   \n",
    "    custom_settings = {\n",
    "        'DOWNLOAD_DELAY': '3.0', \n",
    "        'ROBOTSTXT_OBEY' : True,\n",
    "        'USER_AGENT': 'Testing MyCrawler (mojmail@gmail.com)'\n",
    "    }\n",
    "\n",
    "    top_url = 'https://www.gumtree.pl'\n",
    "    def parse(self, response):\n",
    "        self.logger.info('Got successful response from {}'.format(response.url))\n",
    "        soup = BeautifulSoup(response.body,'html.parser')\n",
    "        hrefs = tab.findAll(\"a\", {\"class\": \"href-link\"})\n",
    "        for h in hrefs:\n",
    "            yield self.top_url + h[\"href\"] #dopisuje 'https://www.gumtree.pl', bo otrzymany adres jest względny, przygotowuje listę wszystkich linków\n",
    "                "
   ]
  },
  {
   "cell_type": "markdown",
   "metadata": {},
   "source": [
    "---"
   ]
  },
  {
   "cell_type": "markdown",
   "metadata": {},
   "source": [
    "# 1. Jak zbudować grzecznego pająka"
   ]
  },
  {
   "cell_type": "markdown",
   "metadata": {},
   "source": [
    "https://www.scrapehero.com/how-to-prevent-getting-blacklisted-while-scraping/"
   ]
  },
  {
   "cell_type": "markdown",
   "metadata": {},
   "source": [
    "- Uwzględniać robots.txt\n",
    "- Nie \"męczyć\" serwera\n",
    "- Przedstawiać się"
   ]
  },
  {
   "cell_type": "code",
   "execution_count": null,
   "metadata": {},
   "outputs": [],
   "source": [
    "# robots.txt"
   ]
  },
  {
   "cell_type": "raw",
   "metadata": {},
   "source": [
    "User-agent: *\n",
    "\n",
    "#Sorting parameters\n",
    "Disallow: /*order=*\n",
    "Disallow: /*galleryView=*\n",
    "Disallow: /*sort=*\n",
    "\n",
    "#Other comments:\n",
    "Disallow: *?sr=8*\n",
    "Disallow: /f-pbfvb/*\n",
    "Disallow: *?be=*\n",
    "Disallow: *?geoTag=*\n",
    "Disallow: /api/*\n",
    "Disallow: /306629115/MX_*\n",
    "Disallow: /bolt-2dot0-frontend$*\n",
    "Disallow: /7162/Gumtree_*\n",
    "Disallow: /169054071/Gumtree_*\n",
    "Disallow: /306629115/iBazar_MX*\n",
    "Disallow: /306629115/AR_*\n",
    "\n",
    "#Sitemaps\n",
    "Sitemap: https://www.gumtree.pl/vip_index.xml\n",
    "Sitemap: https://www.gumtree.pl/sitemap_index.xml\n",
    "Sitemap: https://www.gumtree.pl/sitemap_loccat.xml\n",
    "Sitemap: https://www.gumtree.pl/sitemap_loccatatt.xml"
   ]
  },
  {
   "cell_type": "code",
   "execution_count": null,
   "metadata": {},
   "outputs": [],
   "source": [
    "    custom_settings = {\n",
    "        'DOWNLOAD_DELAY': '3.0', \n",
    "        'ROBOTSTXT_OBEY' : True,\n",
    "        'USER_AGENT': 'Testing MyCrawler (mojmail@gmail.com)'\n",
    "    }"
   ]
  },
  {
   "cell_type": "markdown",
   "metadata": {},
   "source": [
    "---\n",
    "# 2. Machine Learning"
   ]
  },
  {
   "cell_type": "raw",
   "metadata": {},
   "source": [
    "Machine Learning to proces budowy optymalnego modelu statystycznego opisującego dane"
   ]
  },
  {
   "cell_type": "raw",
   "metadata": {},
   "source": [
    "Mamy wiele sposobów \"nauczania\"\n",
    "- Z nadzorem (supervised learning)\n",
    "- Bez nadzoru (unsupervised learning)\n",
    "- etc."
   ]
  },
  {
   "cell_type": "raw",
   "metadata": {},
   "source": [
    "Model z nadzorem zakłada, że mamy:\n",
    "    - Dane wyjaśniające (np. ilość pokoi, lokalizację, piętro, ilość metrów, rok budowy etc. etc.) - tzw. X\n",
    "    - Dane wyjaśniane (np. cena za m2) - tzw. y"
   ]
  },
  {
   "cell_type": "raw",
   "metadata": {},
   "source": [
    "Szukamy funkcji f(X) która najbardziej zbliża się do y (np. suma błędów jest najmniejsza)"
   ]
  },
  {
   "cell_type": "code",
   "execution_count": 16,
   "metadata": {},
   "outputs": [
    {
     "data": {
      "image/png": "[encoded data removed]",
      "text/plain": [
       "<Figure size 432x288 with 1 Axes>"
      ]
     },
     "metadata": {
      "needs_background": "light"
     },
     "output_type": "display_data"
    }
   ],
   "source": [
    "%matplotlib inline\n",
    "import matplotlib.pyplot as plt\n",
    "import numpy as np\n",
    "\n",
    "x = np.linspace(-3, 3, 100)\n",
    "plt.plot(x, 1.3*x)\n",
    "plt.plot(x, x+0.6*x*x)\n",
    "x = np.linspace(-2, 2, 10)\n",
    "plt.scatter(x, x+0.8*np.abs(x));"
   ]
  },
  {
   "cell_type": "raw",
   "metadata": {},
   "source": [
    "Modele mogą mieć wiele wad:"
   ]
  },
  {
   "cell_type": "raw",
   "metadata": {},
   "source": [
    "Greedy - \"zachłanny\" - wymaga bardzo dużo danych do trenowania\n",
    "Brittle - \"kruchy\" - źle uogólnia poza obszarem nauczonym\n",
    "Opaque - \"nieprzeźroczysty\" - model jest wielką macierzą pełną liczb\n",
    "Shallow - \"płytki\" - nie posiada wiedzy dodatkowej niż to co zostało użyte do trenowania"
   ]
  },
  {
   "cell_type": "code",
   "execution_count": null,
   "metadata": {},
   "outputs": [],
   "source": []
  },
  {
   "cell_type": "code",
   "execution_count": null,
   "metadata": {},
   "outputs": [],
   "source": []
  },
  {
   "cell_type": "markdown",
   "metadata": {},
   "source": [
    "## 2.1 Proces Nauczania modelu z nadzorem"
   ]
  },
  {
   "cell_type": "code",
   "execution_count": null,
   "metadata": {},
   "outputs": [],
   "source": [
    "1. Dzielimy dane na treningowe (typowo 80%) i testowe (typowo 20%)\n",
    "2. Budujemy model tak aby dopasować jak najlepiej do danych treningowych\n",
    "3. Oceniamy model jak dobrze pasuje do danych testowych\n",
    "4. Żonglujemy parametrami aby zminimalizować błąd w (3)"
   ]
  },
  {
   "cell_type": "markdown",
   "metadata": {},
   "source": [
    "## 2.2 Przykład regresji liniowej"
   ]
  },
  {
   "cell_type": "markdown",
   "metadata": {},
   "source": [
    "https://scikit-learn.org/stable/auto_examples/linear_model/plot_ols.html"
   ]
  },
  {
   "cell_type": "code",
   "execution_count": 17,
   "metadata": {},
   "outputs": [],
   "source": [
    "from sklearn import datasets\n",
    "\n",
    "diabetes_X, diabetes_y = datasets.load_diabetes(return_X_y=True)"
   ]
  },
  {
   "cell_type": "code",
   "execution_count": 18,
   "metadata": {},
   "outputs": [
    {
     "data": {
      "text/plain": [
       "array([[ 0.03807591,  0.05068012,  0.06169621, ..., -0.00259226,\n",
       "         0.01990842, -0.01764613],\n",
       "       [-0.00188202, -0.04464164, -0.05147406, ..., -0.03949338,\n",
       "        -0.06832974, -0.09220405],\n",
       "       [ 0.08529891,  0.05068012,  0.04445121, ..., -0.00259226,\n",
       "         0.00286377, -0.02593034],\n",
       "       ...,\n",
       "       [ 0.04170844,  0.05068012, -0.01590626, ..., -0.01107952,\n",
       "        -0.04687948,  0.01549073],\n",
       "       [-0.04547248, -0.04464164,  0.03906215, ...,  0.02655962,\n",
       "         0.04452837, -0.02593034],\n",
       "       [-0.04547248, -0.04464164, -0.0730303 , ..., -0.03949338,\n",
       "        -0.00421986,  0.00306441]])"
      ]
     },
     "execution_count": 18,
     "metadata": {},
     "output_type": "execute_result"
    }
   ],
   "source": [
    "diabetes_X "
   ]
  },
  {
   "cell_type": "code",
   "execution_count": 20,
   "metadata": {},
   "outputs": [
    {
     "data": {
      "text/plain": [
       "442"
      ]
     },
     "execution_count": 20,
     "metadata": {},
     "output_type": "execute_result"
    }
   ],
   "source": [
    "diabetes_X.size"
   ]
  },
  {
   "cell_type": "code",
   "execution_count": 19,
   "metadata": {},
   "outputs": [],
   "source": [
    "\n",
    "import matplotlib.pyplot as plt\n",
    "import numpy as np\n",
    "from sklearn import datasets, linear_model\n",
    "from sklearn.metrics import mean_squared_error, r2_score\n",
    "\n",
    "# Load the diabetes dataset\n",
    "diabetes_X, diabetes_y = datasets.load_diabetes(return_X_y=True)\n",
    "\n",
    "# Use only one feature\n",
    "diabetes_X = diabetes_X[:, np.newaxis, 2]\n",
    "\n",
    "# Split the data into training/testing sets\n",
    "diabetes_X_train = diabetes_X[:-20]\n",
    "diabetes_X_test = diabetes_X[-20:]\n",
    "\n",
    "# Split the targets into training/testing sets\n",
    "diabetes_y_train = diabetes_y[:-20]\n",
    "diabetes_y_test = diabetes_y[-20:]\n"
   ]
  },
  {
   "cell_type": "code",
   "execution_count": null,
   "metadata": {},
   "outputs": [],
   "source": [
    "\n",
    "# Create linear regression object\n",
    "regr = linear_model.LinearRegression()\n",
    "\n",
    "# Train the model using the training sets\n",
    "regr.fit(diabetes_X_train, diabetes_y_train)\n",
    "\n",
    "# Make predictions using the testing set\n",
    "diabetes_y_pred = regr.predict(diabetes_X_test)\n",
    "\n",
    "# The coefficients\n",
    "print('Coefficients: \\n', regr.coef_)\n",
    "# The mean squared error\n",
    "print('Mean squared error: %.2f'\n",
    "      % mean_squared_error(diabetes_y_test, diabetes_y_pred))\n",
    "# The coefficient of determination: 1 is perfect prediction\n",
    "print('Coefficient of determination: %.2f'\n",
    "      % r2_score(diabetes_y_test, diabetes_y_pred))\n",
    "\n",
    "# Plot outputs\n",
    "plt.scatter(diabetes_X_test, diabetes_y_test,  color='black')\n",
    "plt.plot(diabetes_X_test, diabetes_y_pred, color='blue', linewidth=3)\n",
    "\n",
    "plt.xticks(())\n",
    "plt.yticks(())\n",
    "\n",
    "plt.show()"
   ]
  },
  {
   "cell_type": "markdown",
   "metadata": {},
   "source": [
    "---\n",
    "Zadanie 1:\n",
    "\n",
    "    Wyciągnąć ze strony https://www.gumtree.pl/a-mieszkania-i-domy-sprzedam-i-kupie/srodmiescie/dwupokojowe-mieszkanie-na-sprzedaz-chmielna/1006950207540911136948109 wszystkie parametry opisujące lokal"
   ]
  },
  {
   "cell_type": "markdown",
   "metadata": {},
   "source": [
    "---"
   ]
  }
 ],
 "metadata": {
  "kernelspec": {
   "display_name": "Python 3",
   "language": "python",
   "name": "python3"
  },
  "language_info": {
   "codemirror_mode": {
    "name": "ipython",
    "version": 3
   },
   "file_extension": ".py",
   "mimetype": "text/x-python",
   "name": "python",
   "nbconvert_exporter": "python",
   "pygments_lexer": "ipython3",
   "version": "3.7.5"
  }
 },
 "nbformat": 4,
 "nbformat_minor": 4
}
