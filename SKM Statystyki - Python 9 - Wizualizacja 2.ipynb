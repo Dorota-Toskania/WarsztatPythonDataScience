{
 "cells": [
  {
   "cell_type": "markdown",
   "metadata": {},
   "source": [
    "# Wykład 9 - Proces analizy danych - od pobrania do wizualizacji na przykładzie danych o COVID-19\n",
    "\n",
    "## Pobranie danych\n",
    "### - JSON. Pobieranie danych ze zdalnych API.\n",
    "### - Data Wrangling\n",
    "\n",
    "##  Przykłady Feature Engineering\n",
    "##  Wizualizacja przykładu"
   ]
  },
  {
   "cell_type": "markdown",
   "metadata": {},
   "source": [
    "https://github.com/MichalKorzycki/WarsztatPythonDataScience.git/"
   ]
  },
  {
   "cell_type": "markdown",
   "metadata": {},
   "source": [
    "# Pobranie danych"
   ]
  },
  {
   "cell_type": "markdown",
   "metadata": {},
   "source": [
    "API"
   ]
  },
  {
   "cell_type": "markdown",
   "metadata": {},
   "source": [
    "https://api.covid19api.com/"
   ]
  },
  {
   "cell_type": "markdown",
   "metadata": {},
   "source": [
    "_Impact of non-pharmaceutical interventions (NPIs) to reduce COVID19 mortality and healthcare demand_ - Neil M Ferguson et al. "
   ]
  },
  {
   "cell_type": "markdown",
   "metadata": {},
   "source": [
    "https://www.imperial.ac.uk/media/imperial-college/medicine/sph/ide/gida-fellowships/Imperial-College-COVID19-NPI-modelling-16-03-2020.pdf"
   ]
  },
  {
   "cell_type": "markdown",
   "metadata": {},
   "source": [
    "## JavaScript Object Notation - JSON"
   ]
  },
  {
   "cell_type": "code",
   "execution_count": null,
   "metadata": {},
   "outputs": [],
   "source": [
    "import json\n",
    "from pprint import pprint\n",
    "\n",
    "data = [ {\"Name\": \"Jan\", \"Surname\": \"Kowalski\", \"Age\": 37}, {\"Name\": \"Marek\", \"Surname\": \"Nowak\", \"Age\": 53}]\n",
    "\n",
    "my_json_string = json.dumps(data)\n",
    "type(my_json_string)\n",
    "pprint(my_json_string)"
   ]
  },
  {
   "cell_type": "code",
   "execution_count": null,
   "metadata": {},
   "outputs": [],
   "source": [
    "my_json_object = json.loads(my_json_string)\n",
    "pprint(my_json_object)"
   ]
  },
  {
   "cell_type": "markdown",
   "metadata": {},
   "source": [
    "# Pobieranie danych ze zdalnych API"
   ]
  },
  {
   "cell_type": "code",
   "execution_count": null,
   "metadata": {},
   "outputs": [],
   "source": [
    "import requests"
   ]
  },
  {
   "cell_type": "code",
   "execution_count": null,
   "metadata": {},
   "outputs": [],
   "source": [
    "import requests\n",
    "\n",
    "url = \"https://api.covid19api.com/\"\n",
    "response = requests.request(method=\"GET\", url=url)\n",
    "print(response.text)"
   ]
  },
  {
   "cell_type": "code",
   "execution_count": null,
   "metadata": {},
   "outputs": [],
   "source": [
    "from pprint import pprint\n",
    "\n",
    "json_response = response.json()\n",
    "pprint(json_response[:2])"
   ]
  },
  {
   "cell_type": "code",
   "execution_count": null,
   "metadata": {},
   "outputs": [],
   "source": [
    "url = \"https://api.covid19api.com/countries\"\n",
    "response = requests.request(method=\"GET\", url=url)\n",
    "pprint(response.json()[:15])"
   ]
  },
  {
   "cell_type": "markdown",
   "metadata": {},
   "source": [
    "Pobranie danych i zapis do pliku"
   ]
  },
  {
   "cell_type": "code",
   "execution_count": null,
   "metadata": {},
   "outputs": [],
   "source": [
    "from datetime import datetime \n",
    "now = datetime.now().strftime(\"%d-%b-%Y-%H:%M:%S\")\n",
    "fname = \"all-\"+now+\".json\"\n",
    "print(\"Nazwa pliku: %s\" % fname)\n",
    "\n",
    "url = \"https://api.covid19api.com/all\"\n",
    "response = requests.request(method=\"GET\", url=url)\n",
    "with open('data.json', 'w') as f:\n",
    "    json.dump(response.json(), f)\n",
    "    print(\"Plik zapisano\")"
   ]
  },
  {
   "cell_type": "code",
   "execution_count": null,
   "metadata": {},
   "outputs": [],
   "source": [
    "import json\n",
    "\n",
    "with open('wyklad9/all.json') as json_file:\n",
    "    data = json.load(json_file)\n",
    "\n",
    "print(\"Rekordów: %d\" % len(data))"
   ]
  },
  {
   "cell_type": "markdown",
   "metadata": {},
   "source": [
    "Do wyboru - jeden z poniższych"
   ]
  },
  {
   "cell_type": "raw",
   "metadata": {},
   "source": [
    "wczytujemy dane z sieci ..."
   ]
  },
  {
   "cell_type": "code",
   "execution_count": null,
   "metadata": {},
   "outputs": [],
   "source": [
    "import requests \n",
    "import json\n",
    "\n",
    "url = \"https://api.covid19api.com/all\"\n",
    "\n",
    "with requests.Session() as s:\n",
    "    input_data = s.get(url).json()\n",
    "\n",
    "\n",
    "print(\"Rekordów: %d\" % len(input_data))"
   ]
  },
  {
   "cell_type": "raw",
   "metadata": {},
   "source": [
    "... albo wczytujemy dane z pliku ..."
   ]
  },
  {
   "cell_type": "code",
   "execution_count": null,
   "metadata": {},
   "outputs": [],
   "source": [
    "import json \n",
    "\n",
    "filename = 'wyklad9/all.json'\n",
    "\n",
    "with open(filename) as json_file:\n",
    "    input_data = json.load(json_file)\n",
    "    \n",
    "print(len(input_data))"
   ]
  },
  {
   "cell_type": "code",
   "execution_count": null,
   "metadata": {},
   "outputs": [],
   "source": [
    "import pprint\n",
    "\n",
    "print(input_data[-3:-1])"
   ]
  },
  {
   "cell_type": "markdown",
   "metadata": {},
   "source": [
    "``` python \n",
    "import pandas as pd\n",
    "data = pd.read_json ('wyklad9/all.json')\n",
    "```"
   ]
  },
  {
   "cell_type": "code",
   "execution_count": null,
   "metadata": {},
   "outputs": [],
   "source": [
    "import pandas as pd\n",
    "\n",
    "data = pd.DataFrame(input_data)\n",
    "data.head()"
   ]
  },
  {
   "cell_type": "code",
   "execution_count": null,
   "metadata": {},
   "outputs": [],
   "source": [
    "data.dtypes"
   ]
  },
  {
   "cell_type": "markdown",
   "metadata": {},
   "source": [
    "wymuszamy kolumnę 'Date' jako datę ..."
   ]
  },
  {
   "cell_type": "code",
   "execution_count": null,
   "metadata": {},
   "outputs": [],
   "source": [
    "data['Date'] = pd.to_datetime(data['Date'], errors='coerce', format='%Y-%m-%dT%H:%M:%S') \n",
    "data['Day'] = data['Date'].dt.date\n",
    "data.dtypes"
   ]
  },
  {
   "cell_type": "code",
   "execution_count": null,
   "metadata": {},
   "outputs": [],
   "source": [
    "data.head()"
   ]
  },
  {
   "cell_type": "code",
   "execution_count": null,
   "metadata": {},
   "outputs": [],
   "source": [
    "data = data.dropna()\n",
    "data.head()"
   ]
  },
  {
   "cell_type": "code",
   "execution_count": null,
   "metadata": {},
   "outputs": [],
   "source": [
    "australia = data[ data['Country'] == 'Australia' ]\n",
    "australia.head(15)"
   ]
  },
  {
   "cell_type": "markdown",
   "metadata": {},
   "source": [
    "Pozbywamy się współrzędnych geograficznych i prowincji"
   ]
  },
  {
   "cell_type": "code",
   "execution_count": null,
   "metadata": {},
   "outputs": [],
   "source": [
    "df = data[['Country','Date', 'Day', 'Cases', 'Status']] \n",
    "df.head()"
   ]
  },
  {
   "cell_type": "markdown",
   "metadata": {},
   "source": [
    "Sumujemy kraje po prowincjach"
   ]
  },
  {
   "cell_type": "code",
   "execution_count": null,
   "metadata": {},
   "outputs": [],
   "source": [
    "df = df.groupby(['Country', 'Date', 'Day', 'Status', 'Cases',]).sum()\n",
    "df.reset_index(inplace=True)\n",
    "df.head()"
   ]
  },
  {
   "cell_type": "markdown",
   "metadata": {},
   "source": [
    "Robimy pivot table z kolumnami: confirmed, deaths i recovered"
   ]
  },
  {
   "cell_type": "code",
   "execution_count": null,
   "metadata": {},
   "outputs": [],
   "source": [
    "import numpy as np\n",
    "df = df.pivot_table(\n",
    "        values='Cases', \n",
    "        index=['Country', 'Date', 'Day'], \n",
    "        columns='Status', \n",
    "        aggfunc=np.sum)\n",
    "\n",
    "df.reset_index(inplace=True)\n",
    "df.head(10)"
   ]
  },
  {
   "cell_type": "code",
   "execution_count": null,
   "metadata": {},
   "outputs": [],
   "source": [
    "df[df[\"Country\"]==\"Canada\"].head(15)"
   ]
  },
  {
   "cell_type": "markdown",
   "metadata": {},
   "source": [
    "... sprzątamy nazwy krajów"
   ]
  },
  {
   "cell_type": "code",
   "execution_count": null,
   "metadata": {},
   "outputs": [],
   "source": [
    "df_iran = df[ df[\"Country\"].str.contains(\"Iran\")  ]\n",
    "df_iran"
   ]
  },
  {
   "cell_type": "code",
   "execution_count": null,
   "metadata": {},
   "outputs": [],
   "source": [
    "df = df.replace('Iran (Islamic Republic of)', 'Iran')\n",
    "df_iran = df[ df[\"Country\"].str.contains(\"Iran\")  ]\n",
    "df_iran"
   ]
  },
  {
   "cell_type": "code",
   "execution_count": null,
   "metadata": {},
   "outputs": [],
   "source": [
    "df_korea = df[ df[\"Country\"].str.contains(\"Korea\")  ]\n",
    "df_korea.shape"
   ]
  },
  {
   "cell_type": "code",
   "execution_count": null,
   "metadata": {},
   "outputs": [],
   "source": [
    "pd.set_option('display.max_rows', None)\n",
    "df_korea"
   ]
  },
  {
   "cell_type": "code",
   "execution_count": null,
   "metadata": {},
   "outputs": [],
   "source": [
    "df = df.replace('Korea, South', 'South Korea')\n",
    "df = df.replace('Republic of Korea', 'South Korea')\n",
    "df_korea = df[ df[\"Country\"].str.contains(\"Korea\")  ]\n",
    "df_korea"
   ]
  },
  {
   "cell_type": "code",
   "execution_count": null,
   "metadata": {},
   "outputs": [],
   "source": [
    "df[\"Country\"].value_counts()"
   ]
  },
  {
   "cell_type": "code",
   "execution_count": null,
   "metadata": {},
   "outputs": [],
   "source": [
    "df = df.replace('Russian Federation', 'Russia')\n",
    "df = df.replace(' Azerbaijan', 'Azerbaijan')\n",
    "df = df.replace('Republic of Ireland', 'Ireland')\n",
    "df = df.replace('Republic of Moldova', 'Moldova')\n",
    "df = df.replace('Hong Kong SAR', 'Hong Kong')\n",
    "df = df.replace('Taipei and environs', 'Taiwan')\n",
    "df = df.replace('Taiwan*', 'Taiwan')"
   ]
  },
  {
   "cell_type": "markdown",
   "metadata": {},
   "source": [
    "Bierzemy datę 15 ostatnich dni ze zbioru danych"
   ]
  },
  {
   "cell_type": "code",
   "execution_count": null,
   "metadata": {},
   "outputs": [],
   "source": [
    "lastday = max(df[\"Date\"])\n",
    "daysbefore = lastday + pd.Timedelta(days=-15)\n",
    "daysbefore"
   ]
  },
  {
   "cell_type": "markdown",
   "metadata": {},
   "source": [
    "filtrujemy po dacie"
   ]
  },
  {
   "cell_type": "code",
   "execution_count": null,
   "metadata": {},
   "outputs": [],
   "source": [
    "df = df[ df[\"Date\"] >= pd.to_datetime(daysbefore) ]\n",
    "df.head(15)"
   ]
  },
  {
   "cell_type": "markdown",
   "metadata": {},
   "source": [
    "bierzemy top N krajów po ilości przypadków na dzień"
   ]
  },
  {
   "cell_type": "code",
   "execution_count": null,
   "metadata": {},
   "outputs": [],
   "source": [
    "topdf = df[ df[\"Date\"] == lastday ]\n",
    "topdf = topdf.sort_values(by=['confirmed'])\n",
    "topdf.head(25)"
   ]
  },
  {
   "cell_type": "code",
   "execution_count": null,
   "metadata": {},
   "outputs": [],
   "source": [
    "topdf.sort_values(by=['confirmed'], inplace=True, ascending=False)\n",
    "topdf.head(25)"
   ]
  },
  {
   "cell_type": "code",
   "execution_count": null,
   "metadata": {},
   "outputs": [],
   "source": [
    "N=10\n",
    "first_N_countries = topdf.iloc[0:N][\"Country\"]\n",
    "first_N_countries"
   ]
  },
  {
   "cell_type": "code",
   "execution_count": null,
   "metadata": {},
   "outputs": [],
   "source": [
    "second_N_countries = topdf.iloc[N:2*N][\"Country\"]\n",
    "second_N_countries"
   ]
  },
  {
   "cell_type": "code",
   "execution_count": null,
   "metadata": {},
   "outputs": [],
   "source": [
    "df = df[ df['Country'].isin(first_N_countries)  ]\n",
    "df.head(10)"
   ]
  },
  {
   "cell_type": "code",
   "execution_count": null,
   "metadata": {},
   "outputs": [],
   "source": [
    "df = df.sort_values(by=['Country', 'Date'])\n",
    "df.reset_index(inplace=True)\n",
    "df.head(100)"
   ]
  },
  {
   "cell_type": "markdown",
   "metadata": {},
   "source": [
    "# Cała obróbka wstępna zebrana razem..."
   ]
  },
  {
   "cell_type": "code",
   "execution_count": null,
   "metadata": {},
   "outputs": [],
   "source": [
    "import json\n",
    "import requests \n",
    "import pandas as pd\n",
    "import numpy as np\n",
    "url = \"https://api.covid19api.com/all\"\n",
    "\n",
    "with requests.Session() as s:\n",
    "    input_data = s.get(url).json()\n",
    "print(\"Przeczytano %d wierszy z %s\" % (len(input_data), url) )\n",
    "\n",
    "with open('wyklad9/all.json', 'w') as f:\n",
    "    json.dump(input_data, f)\n",
    "\n",
    "data = pd.DataFrame(input_data)\n",
    "data['Date'] = pd.to_datetime(data['Date'], errors='coerce', format='%Y-%m-%dT%H:%M:%S') \n",
    "data['Day'] = data['Date'].dt.date\n",
    "\n",
    "data = data.dropna()\n",
    "print(\"Na wejściu mamy %d rekordów i %d kolumn\" % (data.shape[0],data.shape[1]))"
   ]
  },
  {
   "cell_type": "code",
   "execution_count": null,
   "metadata": {},
   "outputs": [],
   "source": [
    "######################################\n",
    "DAYS_WINDOW=31\n",
    "N=10\n",
    "######################################\n",
    "\n",
    "lastday = max(data[\"Date\"])\n",
    "daysbefore = lastday + pd.Timedelta(days=-DAYS_WINDOW)\n",
    "print(\"Dane od %s do %s\" % (str(daysbefore).split(' ')[0], str(lastday).split(' ')[0]) )\n",
    "df = data[ data[\"Date\"] > pd.to_datetime(daysbefore) ]\n",
    "print(\"Zostało %d rekordów i %d kolumn\" % (df.shape[0],df.shape[1]))\n",
    "\n",
    "df = df[['Country','Date', 'Day', 'Cases', 'Status']] \n",
    "df = df.groupby(['Country', 'Date', 'Day', 'Status', 'Cases',]).sum()\n",
    "df.reset_index(inplace=True)\n",
    "print(\"Po agregacji prowincji mamy %d rekordówi %d kolumn: %s\" % ( df.shape[0],df.shape[1], \" \".join(df.columns) ))\n",
    "\n",
    "df = df.replace('Iran (Islamic Republic of)', 'Iran')\n",
    "df = df.replace('Korea, South', 'South Korea')\n",
    "df = df.replace('Republic of Korea', 'South Korea')\n",
    "df = df.replace('Russian Federation', 'Russia')\n",
    "df = df.replace(' Azerbaijan', 'Azerbaijan')\n",
    "df = df.replace('Republic of Ireland', 'Ireland')\n",
    "df = df.replace('Republic of Moldova', 'Moldova')\n",
    "df = df.replace('Hong Kong SAR', 'Hong Kong')\n",
    "df = df.replace('Taipei and environs', 'Taiwan')\n",
    "df = df.replace('Taiwan*', 'Taiwan')\n",
    "\n",
    "df = df.pivot_table(\n",
    "        values='Cases', \n",
    "        index=['Country', 'Date', 'Day'], \n",
    "        columns='Status', \n",
    "        aggfunc=np.sum)\n",
    "\n",
    "df.reset_index(inplace=True)\n",
    "print(\"Po operacji pivot mamy %d rekordów i %d kolumn:  %s\" % ( df.shape[0], df.shape[1], \" \".join(df.columns) ))\n",
    "\n",
    "topdf = df[ df[\"Date\"] == lastday ]\n",
    "topdf = topdf.sort_values(by=['confirmed'], ascending=False)\n",
    "first_N_countries = topdf.iloc[0:N][\"Country\"]\n",
    "smaller_top_N = topdf.iloc[0:(N//2)][\"Country\"]\n",
    "\n",
    "italy = df[ df['Country'] == 'Italy'  ] \n",
    "us = df[ df['Country'] == 'US'  ] \n",
    "\n",
    "df = df[ df['Country'].isin(first_N_countries)  ]\n",
    "df = df.sort_values(by=['Country', 'Date'])\n",
    "df.reset_index(drop=True, inplace=True)\n",
    "\n",
    "print(\"Po odfiltrowaniu mamy %d rekordów i %d kolumn: %s\" % ( df.shape[0],df.shape[1],\" \".join(df.columns) ))\n",
    "print(\"Przygotowane dane z %d dni dla %d krajów\" % \n",
    "      ( len(df[\"Date\"].value_counts()), len(df[\"Country\"].value_counts()) ))\n",
    "df.head()"
   ]
  },
  {
   "cell_type": "code",
   "execution_count": null,
   "metadata": {},
   "outputs": [],
   "source": [
    "smaller_df = df[ df['Country'].isin(smaller_top_N)  ]\n",
    "smaller_df = smaller_df.sort_values(by=['Country', 'Date'])\n",
    "smaller_df.reset_index(drop=True, inplace=True)\n",
    "\n",
    "print(\"Po odfiltrowaniu mniejszych danych mamy %d rekordów i %d kolumn: %s\" % ( smaller_df.shape[0],smaller_df.shape[1],\" \".join(smaller_df.columns) ))\n",
    "print(\"Przygotowane mniejsze dane z %d dni dla %d krajów\" % \n",
    "      ( len(smaller_df[\"Date\"].value_counts()), len(smaller_df[\"Country\"].value_counts()) ))\n",
    "smaller_df.head()"
   ]
  },
  {
   "cell_type": "markdown",
   "metadata": {},
   "source": [
    "# Wizualizacja"
   ]
  },
  {
   "cell_type": "code",
   "execution_count": null,
   "metadata": {},
   "outputs": [],
   "source": [
    "import warnings\n",
    "warnings.filterwarnings(\"ignore\")\n",
    "import numpy as np\n",
    "import seaborn as sns\n",
    "import matplotlib.pyplot as plt\n",
    "import matplotlib.dates as mdates"
   ]
  },
  {
   "cell_type": "markdown",
   "metadata": {},
   "source": [
    "1 kraj"
   ]
  },
  {
   "cell_type": "code",
   "execution_count": null,
   "metadata": {},
   "outputs": [],
   "source": [
    "plt.figure(figsize=(20,10))\n",
    "plt.style.use(\"dark_background\")\n",
    "\n",
    "chart = sns.lineplot(x='Day',\n",
    "                     y='confirmed',\n",
    "                     color='g',linestyle='-', marker='o',\n",
    "                     data=italy\n",
    "                    )\n",
    "\n",
    "chart.set_title('Confirmed COVID-19 Cases')\n",
    "\n",
    "plt.show();"
   ]
  },
  {
   "cell_type": "markdown",
   "metadata": {},
   "source": [
    "2 kraje"
   ]
  },
  {
   "cell_type": "code",
   "execution_count": null,
   "metadata": {},
   "outputs": [],
   "source": [
    "plt.figure(figsize=(20,10))\n",
    "plt.style.use(\"dark_background\")\n",
    "\n",
    "chart = sns.lineplot(x='Day',\n",
    "                     y='confirmed',\n",
    "                     color='g',linestyle='-', marker='o',\n",
    "                     data=italy\n",
    "                    )\n",
    "chart = sns.lineplot(x='Day',\n",
    "                     y='confirmed',\n",
    "                     color='r',linestyle='-', marker='o',\n",
    "                     data=us\n",
    "                    )\n",
    "chart.set_title('Confirmed COVID-19 Cases')\n",
    "\n",
    "plt.show();"
   ]
  },
  {
   "cell_type": "markdown",
   "metadata": {},
   "source": [
    "N krajów"
   ]
  },
  {
   "cell_type": "code",
   "execution_count": null,
   "metadata": {},
   "outputs": [],
   "source": [
    "plt.figure(figsize=(20,10))\n",
    "plt.style.use(\"dark_background\")\n",
    "\n",
    "chart = sns.lineplot(x='Day',\n",
    "                     y='confirmed',\n",
    "                     hue='Country',linestyle='-', marker='o',\n",
    "                     palette='bright',    \n",
    "                     data=df\n",
    "                    )\n",
    "chart.set_title('Confirmed COVID-19 Cases')\n",
    "\n",
    "plt.show();"
   ]
  },
  {
   "cell_type": "markdown",
   "metadata": {},
   "source": [
    "poprawiamy legendę"
   ]
  },
  {
   "cell_type": "code",
   "execution_count": null,
   "metadata": {},
   "outputs": [],
   "source": [
    "def fix_legend(chart, marker=\"o\"):\n",
    "    handles, labels = chart.get_legend_handles_labels()\n",
    "    sorting_order = dict(map(lambda x: (x[1],x[0]), enumerate(first_N_countries)))\n",
    "    labels_handles = list(zip(labels,handles))\n",
    "\n",
    "    labels_handles.sort(key = lambda x: sorting_order.get(x[0],-1))\n",
    "    labels = [ x[0] for x in labels_handles[1:]]\n",
    "    handles = [ x[1] for x in labels_handles[1:]]\n",
    "    for handle in handles: \n",
    "        handle.set_marker(marker)\n",
    "        handle.set_markeredgecolor(\"white\")\n",
    "        \n",
    "    return handles, labels"
   ]
  },
  {
   "cell_type": "code",
   "execution_count": null,
   "metadata": {},
   "outputs": [],
   "source": [
    "plt.figure(figsize=(20,10))\n",
    "plt.style.use(\"dark_background\")\n",
    "\n",
    "chart = sns.lineplot(x='Day',\n",
    "                     y='confirmed',\n",
    "                     hue='Country',linestyle='-', marker='o',\n",
    "                     palette='bright',    \n",
    "                     data=df\n",
    "                    )\n",
    "\n",
    "chart.set_title('Confirmed COVID-19 Cases')\n",
    "\n",
    "handles, labels = fix_legend(chart)\n",
    "plt.legend(handles, labels, frameon=False, loc=\"best\")\n",
    "\n",
    "plt.show();"
   ]
  },
  {
   "cell_type": "code",
   "execution_count": null,
   "metadata": {},
   "outputs": [],
   "source": [
    "plt.figure(figsize=(20,10))\n",
    "plt.style.use(\"dark_background\")\n",
    "\n",
    "chart = sns.lineplot(x='Day',\n",
    "                     y='confirmed',\n",
    "                     hue='Country',linestyle='-', marker='o',\n",
    "                     palette='bright',    \n",
    "                     data=df\n",
    "                    )\n",
    "\n",
    "chart.set_title('Confirmed COVID-19 Cases')\n",
    "\n",
    "handles, labels = fix_legend(chart)\n",
    "plt.legend(handles, labels, frameon=False, loc=\"best\")\n",
    "\n",
    "plt.yscale(\"log\")\n",
    "\n",
    "plt.show();"
   ]
  },
  {
   "cell_type": "markdown",
   "metadata": {},
   "source": [
    "Dwa zestawy danych "
   ]
  },
  {
   "cell_type": "code",
   "execution_count": null,
   "metadata": {},
   "outputs": [],
   "source": [
    "plotdata=df\n",
    "\n",
    "plt.figure(figsize=(20,10))\n",
    "plt.style.use(\"dark_background\")\n",
    "\n",
    "chart = sns.lineplot(x='Day',\n",
    "                     y='confirmed',\n",
    "                     hue='Country',linestyle='-', marker='o',\n",
    "                     palette='bright',    \n",
    "                     data=plotdata\n",
    "                    )\n",
    "\n",
    "\n",
    "chart.set_title('Confirmed COVID-19 cases vs number of deaths for %d countries' % N)\n",
    "\n",
    "handles, labels = fix_legend(chart)\n",
    "plt.legend(handles, labels, frameon=False, loc=2, title=\"Confirmed\")\n",
    "\n",
    "ax2 = chart.twinx()\n",
    "\n",
    "chart2 = sns.lineplot(x='Day',\n",
    "                     y='deaths',\n",
    "                     hue='Country', linestyle='-', marker='s',\n",
    "                     palette='muted',    \n",
    "                     data=plotdata,\n",
    "                       ax=ax2\n",
    "                    )\n",
    "\n",
    "handles, labels = fix_legend(chart2, marker=\"s\")\n",
    "legend2 = plt.legend(handles, labels, loc=2, frameon=False, title=\"Deaths\", bbox_to_anchor=(0.15, 1))\n",
    "\n",
    "plt.show();"
   ]
  },
  {
   "cell_type": "markdown",
   "metadata": {},
   "source": [
    "Mniej krajów"
   ]
  },
  {
   "cell_type": "code",
   "execution_count": null,
   "metadata": {},
   "outputs": [],
   "source": [
    "plotdata=smaller_df\n",
    "\n",
    "plt.figure(figsize=(20,10))\n",
    "plt.style.use(\"dark_background\")\n",
    "\n",
    "chart = sns.lineplot(x='Day',\n",
    "                     y='confirmed',\n",
    "                     hue='Country',linestyle='-', marker='o',\n",
    "                     palette='bright',    \n",
    "                     data=plotdata\n",
    "                    )\n",
    "\n",
    "\n",
    "chart.set_title('Confirmed COVID-19 cases vs number of deaths for %d countries' % (N//2) )\n",
    "\n",
    "handles, labels = fix_legend(chart)\n",
    "plt.legend(handles, labels, frameon=False, loc=2, title=\"Confirmed\")\n",
    "\n",
    "ax2 = chart.twinx()\n",
    "\n",
    "chart2 = sns.lineplot(x='Day',\n",
    "                     y='deaths',\n",
    "                     hue='Country', linestyle='-', marker='s',\n",
    "                     palette='muted',    \n",
    "                     data=plotdata,\n",
    "                     ax=ax2\n",
    "                    )\n",
    "\n",
    "handles, labels = fix_legend(chart2, marker=\"s\")\n",
    "legend2 = plt.legend(handles, labels, loc=2, frameon=False, title=\"Deaths\", bbox_to_anchor=(0.15, 1))\n",
    "\n",
    "plt.show();"
   ]
  },
  {
   "cell_type": "markdown",
   "metadata": {},
   "source": [
    "## Dodanie wymiarów - stosunek między wymiarami"
   ]
  },
  {
   "cell_type": "code",
   "execution_count": null,
   "metadata": {},
   "outputs": [],
   "source": [
    "df[\"Mortality\"] = 100*df[\"deaths\"]    / df[\"confirmed\"] \n",
    "df[\"Recovery\"]  = 100*df[\"recovered\"] / df[\"confirmed\"] "
   ]
  },
  {
   "cell_type": "code",
   "execution_count": null,
   "metadata": {},
   "outputs": [],
   "source": [
    "plt.figure(figsize=(20,10))\n",
    "plt.style.use(\"dark_background\")\n",
    "\n",
    "chart = sns.lineplot(x='Day',\n",
    "                     y='Mortality',\n",
    "                     hue='Country',linestyle='-', marker='o',\n",
    "                     palette='bright',    \n",
    "                     data=df\n",
    "                    )\n",
    "\n",
    "chart.set_title('COVID-19 Mortality')\n",
    "\n",
    "handles, labels = fix_legend(chart)\n",
    "plt.legend(handles, labels, frameon=False, loc=\"best\")\n",
    "\n",
    "plt.show();"
   ]
  },
  {
   "cell_type": "code",
   "execution_count": null,
   "metadata": {},
   "outputs": [],
   "source": [
    "plotdata=df\n",
    "\n",
    "plt.figure(figsize=(20,10))\n",
    "plt.style.use(\"dark_background\")\n",
    "\n",
    "chart = sns.lineplot(x='Day',\n",
    "                     y='Recovery',\n",
    "                     hue='Country',linestyle='-', marker='o',\n",
    "                     palette='bright',    \n",
    "                     data=plotdata\n",
    "                    )\n",
    "\n",
    "chart.set_title('COVID-19 Recovery rate')\n",
    "\n",
    "handles, labels = fix_legend(chart)\n",
    "plt.legend(handles, labels, frameon=False, loc=\"best\")\n",
    "\n",
    "plt.show();"
   ]
  },
  {
   "cell_type": "markdown",
   "metadata": {},
   "source": [
    "## Wymiary jako funkcja kilku wierszy - różnica i średnia krocząca "
   ]
  },
  {
   "cell_type": "code",
   "execution_count": null,
   "metadata": {},
   "outputs": [],
   "source": [
    "countries = df[\"Country\"].unique()\n",
    "countries"
   ]
  },
  {
   "cell_type": "code",
   "execution_count": null,
   "metadata": {},
   "outputs": [],
   "source": [
    "dataframes = [ df[ df[\"Country\"] == x] for x in countries ] \n",
    "dataframes[0].head()"
   ]
  },
  {
   "cell_type": "markdown",
   "metadata": {},
   "source": [
    "... będzie błąd"
   ]
  },
  {
   "cell_type": "code",
   "execution_count": null,
   "metadata": {},
   "outputs": [],
   "source": [
    "dataframes[0].diff()"
   ]
  },
  {
   "cell_type": "code",
   "execution_count": null,
   "metadata": {},
   "outputs": [],
   "source": [
    "m_df = dataframes[0][ [\"Day\", \"confirmed\", \"deaths\", \"recovered\"] ]\n",
    "m_df.set_index(\"Day\", inplace=True)\n",
    "m_df.head()"
   ]
  },
  {
   "cell_type": "code",
   "execution_count": null,
   "metadata": {},
   "outputs": [],
   "source": [
    "m_df.diff().head()"
   ]
  },
  {
   "cell_type": "code",
   "execution_count": null,
   "metadata": {},
   "outputs": [],
   "source": [
    "m_df.diff().rolling(2).mean()"
   ]
  },
  {
   "cell_type": "code",
   "execution_count": null,
   "metadata": {},
   "outputs": [],
   "source": [
    "ROLL=7\n",
    "result = []\n",
    "\n",
    "for m_df in dataframes:\n",
    "    country = m_df['Country'].iloc[0]\n",
    "    m_df = m_df[ [\"Day\", \"confirmed\", \"deaths\", \"recovered\"] ]\n",
    "    m_df.set_index(\"Day\", inplace=True)\n",
    "    df_diff = m_df.diff()\n",
    "    df_diff.columns=[\"confirmed change\", \"deaths change\", \"recovered change\"]\n",
    "    \n",
    "    m_df = pd.concat([m_df, df_diff], axis=1, sort=False)\n",
    "    \n",
    "    m_df[\"confirmed pct change\"] = 100.0 * m_df[\"confirmed change\"] / m_df[\"confirmed\"]\n",
    "    m_df[\"confirmed pct change\"]  = m_df[\"confirmed pct change\"].apply(lambda x: x if x > -50.0 else 0.0)\n",
    "\n",
    "    m_df[\"deaths pct change\"] = 100.0 * m_df[\"deaths change\"] / m_df[\"deaths\"]\n",
    "    m_df[\"deaths pct change\"]  = m_df[\"deaths pct change\"].apply(lambda x: x if x > -50.0 else 0.0)\n",
    "    m_df[\"deaths pct change\"]  = m_df[\"deaths pct change\"].apply(lambda x: x if x < 99.0 else 0.0)\n",
    "    \n",
    "    m_df[\"rolling confirmed pct change\"] = m_df[\"confirmed pct change\"] .rolling(window=ROLL).mean()\n",
    "    m_df[\"rolling deaths pct change\"] = m_df[\"deaths pct change\"] .rolling(window=ROLL).mean()\n",
    "    m_df = m_df.dropna()\n",
    "    \n",
    "    m_df = m_df.sort_values(by=\"Day\")\n",
    "    m_df[\"Country\"] = country\n",
    "    m_df.reset_index(inplace=True)\n",
    "    result.append(m_df)\n",
    "    \n",
    "new_df = pd.concat(result, axis=0, sort=False)\n",
    "new_df.head(15)"
   ]
  },
  {
   "cell_type": "code",
   "execution_count": null,
   "metadata": {},
   "outputs": [],
   "source": [
    "plotdata=new_df\n",
    "\n",
    "plt.figure(figsize=(20,10))\n",
    "plt.style.use(\"dark_background\")\n",
    "\n",
    "chart = sns.lineplot(x='Day',\n",
    "                     y='confirmed pct change',\n",
    "                     hue='Country',linestyle='-', marker='o',\n",
    "                     palette='bright',    \n",
    "                     data=plotdata\n",
    "                    )\n",
    "\n",
    "chart.set_title('COVID-19 Confirmed percentage change')\n",
    "\n",
    "handles, labels = fix_legend(chart)\n",
    "plt.legend(handles, labels, frameon=False, loc=\"best\")\n",
    "\n",
    "plt.show();"
   ]
  },
  {
   "cell_type": "code",
   "execution_count": null,
   "metadata": {},
   "outputs": [],
   "source": [
    "plotdata=new_df\n",
    "\n",
    "plt.figure(figsize=(20,10))\n",
    "plt.style.use(\"dark_background\")\n",
    "\n",
    "chart = sns.lineplot(x='Day',\n",
    "                     y='rolling confirmed pct change',\n",
    "                     hue='Country',linestyle='-', marker='o',\n",
    "                     palette='bright',    \n",
    "                     data=plotdata\n",
    "                    )\n",
    "\n",
    "chart.set_title('COVID-19 Confirmed percentage change daily rolling average over %d days' % ROLL)\n",
    "\n",
    "handles, labels = fix_legend(chart)\n",
    "plt.legend(handles, labels, frameon=False, loc=\"best\")\n",
    "\n",
    "plt.show();"
   ]
  },
  {
   "cell_type": "code",
   "execution_count": null,
   "metadata": {},
   "outputs": [],
   "source": [
    "plotdata=new_df\n",
    "\n",
    "plt.figure(figsize=(20,10))\n",
    "plt.style.use(\"dark_background\")\n",
    "\n",
    "chart = sns.lineplot(x='Day',\n",
    "                     y='deaths pct change',\n",
    "                     hue='Country',linestyle='-', marker='o',\n",
    "                     palette='bright',    \n",
    "                     data=plotdata\n",
    "                    )\n",
    "\n",
    "chart.set_title('COVID-19 Confirmed deaths change in pct daily')\n",
    "\n",
    "handles, labels = fix_legend(chart)\n",
    "plt.legend(handles, labels, frameon=False, loc=\"best\")\n",
    "\n",
    "plt.show();"
   ]
  },
  {
   "cell_type": "code",
   "execution_count": null,
   "metadata": {},
   "outputs": [],
   "source": [
    "plotdata=new_df\n",
    "\n",
    "plt.figure(figsize=(20,10))\n",
    "plt.style.use(\"dark_background\")\n",
    "\n",
    "chart = sns.lineplot(x='Day',\n",
    "                     y='rolling deaths pct change',\n",
    "                     hue='Country',linestyle='-', marker='o',\n",
    "                     palette='bright',    \n",
    "                     data=plotdata\n",
    "                    )\n",
    "\n",
    "chart.set_title('COVID-19 deaths change in pct daily rolling average over %d days' % ROLL)\n",
    "\n",
    "handles, labels = fix_legend(chart)\n",
    "plt.legend(handles, labels, frameon=False, loc=\"best\")\n",
    "\n",
    "\n",
    "plt.show();"
   ]
  },
  {
   "cell_type": "markdown",
   "metadata": {},
   "source": [
    "## Zmiana wymiaru _X_"
   ]
  },
  {
   "cell_type": "code",
   "execution_count": null,
   "metadata": {},
   "outputs": [],
   "source": [
    "plt.figure(figsize=(20,10))\n",
    "plt.style.use(\"dark_background\")\n",
    "plt.xscale(\"log\")\n",
    "plt.yscale(\"log\")\n",
    "chart = sns.lineplot(x='confirmed',\n",
    "                     y='deaths',\n",
    "                     hue='Country',linestyle='-', marker='o',\n",
    "                     palette='bright',    \n",
    "                     data=df\n",
    "                    )\n",
    "\n",
    "chart.set_title('COVID-19 Mortality')\n",
    "\n",
    "handles, labels = fix_legend(chart)\n",
    "plt.legend(handles, labels, frameon=False, loc=\"best\")\n",
    "\n",
    "plt.show();"
   ]
  },
  {
   "cell_type": "markdown",
   "metadata": {},
   "source": [
    "---\n",
    "# _Feature engineering („konstrukcja wymiarów”)_ to proces zastosowania wiedzy dziedzinowej do tworzenia wymiarów danych na potrzeby nauczania maszynowego."
   ]
  },
  {
   "cell_type": "markdown",
   "metadata": {},
   "source": [
    "---"
   ]
  },
  {
   "cell_type": "markdown",
   "metadata": {},
   "source": [
    " "
   ]
  },
  {
   "cell_type": "markdown",
   "metadata": {},
   "source": [
    "### Coming up with features is difficult, time-consuming, requires expert knowledge. \n",
    "### \"Applied machine learning\" is basically feature engineering.\n",
    "## <p style='text-align: right;'>- Andrew Ng</p>"
   ]
  },
  {
   "cell_type": "markdown",
   "metadata": {},
   "source": [
    "---"
   ]
  },
  {
   "cell_type": "markdown",
   "metadata": {},
   "source": [
    "# Proces analizy\n",
    "\n",
    "## Wstępna obróbka\n",
    "- W miarę możliwości - dane pobierać online ale mieć kopię offline\n",
    "- Obróbka danych to 80% pracy\n",
    "- Kontroluj parametry obróbki i analizy, tu: ROLL, N, DAYS_WINDOW\n",
    "- Jakość danych jest kluczowa\n",
    "- Często potrzebna manualna poprawa jakości danych \n",
    "\n",
    "## Analiza danych\n",
    "- Kluczowe jest dobranie wymiarów (czas niekoniecznie jest jednym z nich)\n",
    "- Często potzebne wymiary trzeba stworzyć\n",
    "- Duża część zjawisk ma charakter ekspotencjalny (np. Zasada Pareto) - uzywać wartości względnych\n",
    "\n",
    "## Wizualizacja \n",
    "- Dobrać rodzaj grafu do zjawiska\n",
    "- Dla zjawisk ekspotencjalnych - skala logarytmiczna\n"
   ]
  }
 ],
 "metadata": {
  "kernelspec": {
   "display_name": "Python 3",
   "language": "python",
   "name": "python3"
  },
  "language_info": {
   "codemirror_mode": {
    "name": "ipython",
    "version": 3
   },
   "file_extension": ".py",
   "mimetype": "text/x-python",
   "name": "python",
   "nbconvert_exporter": "python",
   "pygments_lexer": "ipython3",
   "version": "3.7.5"
  }
 },
 "nbformat": 4,
 "nbformat_minor": 4
}
