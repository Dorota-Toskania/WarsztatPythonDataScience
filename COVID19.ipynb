{
 "cells": [
  {
   "cell_type": "markdown",
   "metadata": {},
   "source": [
    "# Wykład 9 - addendum - aktualizowana wersja obróbki danych o COVID-19\n"
   ]
  },
  {
   "cell_type": "markdown",
   "metadata": {},
   "source": [
    "https://github.com/MichalKorzycki/WarsztatPythonDataScience.git/"
   ]
  },
  {
   "cell_type": "markdown",
   "metadata": {},
   "source": [
    "*API*"
   ]
  },
  {
   "cell_type": "markdown",
   "metadata": {},
   "source": [
    "https://api.covid19api.com/"
   ]
  },
  {
   "cell_type": "markdown",
   "metadata": {},
   "source": [
    "_Impact of non-pharmaceutical interventions (NPIs) to reduce COVID19 mortality and healthcare demand_ - Neil M Ferguson et al. "
   ]
  },
  {
   "cell_type": "markdown",
   "metadata": {},
   "source": [
    "https://www.imperial.ac.uk/media/imperial-college/medicine/sph/ide/gida-fellowships/Imperial-College-COVID19-NPI-modelling-16-03-2020.pdf"
   ]
  },
  {
   "cell_type": "code",
   "execution_count": null,
   "metadata": {},
   "outputs": [],
   "source": [
    "import json\n",
    "import requests \n",
    "import pandas as pd\n",
    "import numpy as np\n",
    "from datetime import datetime \n",
    "import warnings\n",
    "warnings.filterwarnings(\"ignore\")\n",
    "\n",
    "url = \"https://api.covid19api.com/all\"\n",
    "\n",
    "with requests.Session() as s:\n",
    "    input_data = s.get(url).json()\n",
    "    now = datetime.now().strftime(\"%Y-%m-%d\")\n",
    "    fname = \"all-\"+now+\".json\"\n",
    "    with open(fname, 'w') as f:\n",
    "        json.dump(input_data, f)\n",
    "\n",
    "print(\"Przeczytano %d wierszy z %s\" % (len(input_data), url) )\n",
    "\n",
    "raw_data = pd.DataFrame(input_data)"
   ]
  },
  {
   "cell_type": "markdown",
   "metadata": {},
   "source": [
    "---\n",
    "## Parametry sterujące analizą\n",
    "- `DAYS_WINDOW` - za ile dni wstecz od najświeższych danych w zbiorze ma być wykonana analiza np. `DAYS_WINDOW=7` - dane z tygodnia\n",
    "- `N` - dla ilu krajów naraz ma być wykonana analiza\n",
    "- `SET` - dla której _\"N-ki\"_  ma być wykonana analiza; np. przy `N=10` dla `SET=0` będzie to 1-sza dziesiątka, `SET=1` będzie to 2-ga dziesiątka itd.\n",
    "- `ROLL` - za ile dni ma być liczona średnia krocząca\n",
    "- `DELTADAYS` - przy ustalaniu składu kolejnych `N` brana jest wartość `Confirmed` sprzed `DELTADAYS` dni. Przydaje się w sytuacji gdy nie \"spłynęły\" wszystkie dane dla bieżącego dnia\n",
    "---"
   ]
  },
  {
   "cell_type": "code",
   "execution_count": null,
   "metadata": {},
   "outputs": [],
   "source": [
    "DAYS_WINDOW=39\n",
    "N=10 \n",
    "SET=0\n",
    "ROLL=7\n",
    "DELTADAYS=1"
   ]
  },
  {
   "cell_type": "code",
   "execution_count": null,
   "metadata": {},
   "outputs": [],
   "source": [
    "\n",
    "data = raw_data[ [\"Country\", \"CountryCode\", \"Confirmed\", \"Deaths\", \"Recovered\", \"Active\", \"Date\"] ]\n",
    "data['Date'] = pd.to_datetime(data['Date'], errors='coerce', format='%Y-%m-%dT%H:%M:%S') \n",
    "data['Day'] = data['Date'].dt.date\n",
    "\n",
    "data = data.dropna()\n",
    "print(\"Na wejściu mamy %d rekordów i %d kolumn\" % (data.shape[0],data.shape[1]))\n",
    "\n",
    "lastday = max(data[\"Date\"])\n",
    "daysbefore = lastday + pd.Timedelta(days=-DAYS_WINDOW)\n",
    "print(\"Dane od %s do %s\" % (str(daysbefore).split(' ')[0], str(lastday).split(' ')[0]) )\n",
    "\n",
    "lastday = lastday + pd.Timedelta(days=-DELTADAYS)\n",
    "\n",
    "df = data[ data[\"Date\"] > pd.to_datetime(daysbefore) ]\n",
    "print(\"Zostało %d rekordów i %d kolumn\" % (df.shape[0],df.shape[1]))\n",
    "\n",
    "df = df.replace('Iran (Islamic Republic of)', 'Iran')\n",
    "df = df.replace('Iran, Islamic Republic of', 'Iran')\n",
    "df = df.replace('Korea, South', 'South Korea')\n",
    "df = df.replace('Korea (South)', 'South Korea')\n",
    "df = df.replace('Republic of Korea', 'South Korea')\n",
    "df = df.replace('Russian Federation', 'Russia')\n",
    "df = df.replace(' Azerbaijan', 'Azerbaijan')\n",
    "df = df.replace('Republic of Ireland', 'Ireland')\n",
    "df = df.replace('Republic of Moldova', 'Moldova')\n",
    "df = df.replace('Hong Kong SAR', 'Hong Kong')\n",
    "df = df.replace('Taipei and environs', 'Taiwan')\n",
    "df = df.replace('Taiwan*', 'Taiwan')\n",
    "\n",
    "confirmed = df[['Country', 'CountryCode', 'Date', 'Day', 'Confirmed']]\n",
    "confirmed[\"status\"] = \"Confirmed\"\n",
    "confirmed.rename(columns={'Confirmed':'cases'}, inplace=True)\n",
    "deaths = df[['Country', 'CountryCode', 'Date', 'Day', 'Deaths']]\n",
    "deaths[\"status\"] = \"Deaths\"\n",
    "deaths.rename(columns={'Deaths':'cases'}, inplace=True)\n",
    "recovered = df[['Country', 'CountryCode', 'Date', 'Day', 'Recovered']]\n",
    "recovered[\"status\"] = \"Recovered\"\n",
    "recovered.rename(columns={'Recovered':'cases'}, inplace=True)\n",
    "active = df[['Country', 'CountryCode', 'Date', 'Day', 'Active']]\n",
    "active[\"status\"] = \"Active\"\n",
    "active.rename(columns={'Active':'cases'}, inplace=True)\n",
    "\n",
    "df = pd.concat([confirmed, deaths, recovered, active], axis=0, sort=False)\n",
    "print(\"Po 'ręcznym' melt mamy %d rekordów i %d kolumn: %s\" % ( df.shape[0],df.shape[1], \" \".join(df.columns) ))\n",
    "\n",
    "df = df.groupby(['Country', 'CountryCode', 'Date', 'Day', 'status', 'cases',]).sum()\n",
    "df.reset_index(inplace=True)\n",
    "print(\"Po agregacji prowincji mamy %d rekordów i %d kolumn: %s\" % ( df.shape[0],df.shape[1], \" \".join(df.columns) ))\n",
    "\n",
    "\n",
    "df = df.pivot_table(\n",
    "        values='cases', \n",
    "        index=['Country', 'CountryCode', 'Date', 'Day'], \n",
    "        columns='status', \n",
    "        aggfunc=np.sum)\n",
    "\n",
    "df.reset_index(inplace=True)\n",
    "\n",
    "print(\"Po operacji pivot mamy %d rekordów i %d kolumn:  %s\" % ( df.shape[0], df.shape[1], \" \".join(df.columns) ))\n",
    "\n",
    "topdf = df[ df[\"Date\"] == lastday ]\n",
    "topdf.reset_index(inplace=True)\n",
    "topdf = topdf.sort_values(by=['Confirmed'], ascending=False)\n",
    "\n",
    "topdf.reset_index(drop=True, inplace=True)\n",
    "\n",
    "first_N_countries = topdf.iloc[N*SET:N*SET+N][\"Country\"]\n",
    "smaller_top_N = topdf.iloc[N*SET:(N*SET+N//2)][\"Country\"]\n",
    "\n",
    "italy = df[ df['Country'] == 'Italy'  ] \n",
    "us = df[ df['Country'] == 'United States of America'  ] \n",
    "\n",
    "df = df[ df['Country'].isin(first_N_countries)  ]\n",
    "df = df.sort_values(by=['Country', 'Date'])\n",
    "df.reset_index(inplace=True)\n",
    "\n",
    "print(\"Po odfiltrowaniu mamy %d rekordów i %d kolumn: %s\" % ( df.shape[0],df.shape[1],\" \".join(df.columns) ))\n",
    "print(\"Przygotowane dane z %d dni dla %d krajów\" % \n",
    "      ( len(df[\"Date\"].value_counts()), len(df[\"Country\"].value_counts()) ))\n",
    "\n",
    "df.head()"
   ]
  },
  {
   "cell_type": "code",
   "execution_count": null,
   "metadata": {},
   "outputs": [],
   "source": [
    "topdf.head(30)"
   ]
  },
  {
   "cell_type": "code",
   "execution_count": null,
   "metadata": {},
   "outputs": [],
   "source": [
    "smaller_df = df[ df['Country'].isin(smaller_top_N)  ]\n",
    "smaller_df = smaller_df.sort_values(by=['Country', 'Date'])\n",
    "smaller_df.reset_index(drop=True, inplace=True)\n",
    "\n",
    "print(\"Po odfiltrowaniu mniejszych danych mamy %d rekordów i %d kolumn: %s\" % ( smaller_df.shape[0],smaller_df.shape[1],\" \".join(smaller_df.columns) ))\n",
    "print(\"Przygotowane mniejsze dane z %d dni dla %d krajów\" % \n",
    "      ( len(smaller_df[\"Date\"].value_counts()), len(smaller_df[\"Country\"].value_counts()) ))\n",
    "smaller_df.head()"
   ]
  },
  {
   "cell_type": "markdown",
   "metadata": {},
   "source": [
    "# Wizualizacja"
   ]
  },
  {
   "cell_type": "code",
   "execution_count": null,
   "metadata": {},
   "outputs": [],
   "source": [
    "import numpy as np\n",
    "import seaborn as sns\n",
    "import matplotlib.pyplot as plt\n",
    "import matplotlib.dates as mdates"
   ]
  },
  {
   "cell_type": "markdown",
   "metadata": {},
   "source": [
    "Wykres dla `N` krajów"
   ]
  },
  {
   "cell_type": "code",
   "execution_count": null,
   "metadata": {},
   "outputs": [],
   "source": [
    "def fix_legend(chart, marker=\"o\"):\n",
    "    handles, labels = chart.get_legend_handles_labels()\n",
    "    sorting_order = dict(map(lambda x: (x[1],x[0]), enumerate(first_N_countries)))\n",
    "    labels_handles = list(zip(labels,handles))\n",
    "\n",
    "    labels_handles.sort(key = lambda x: sorting_order.get(x[0],-1))\n",
    "    labels = [ x[0] for x in labels_handles[1:]]\n",
    "    handles = [ x[1] for x in labels_handles[1:]]\n",
    "    for handle in handles: \n",
    "        handle.set_marker(marker)\n",
    "        handle.set_markeredgecolor(\"black\")\n",
    "        \n",
    "    return handles, labels"
   ]
  },
  {
   "cell_type": "code",
   "execution_count": null,
   "metadata": {},
   "outputs": [],
   "source": [
    "plt.figure(figsize=(20,10))\n",
    "plt.style.use(\"dark_background\")\n",
    "\n",
    "chart = sns.lineplot(x='Day',\n",
    "                     y='Confirmed',\n",
    "                     hue='Country',linestyle='-', marker='o',\n",
    "                     palette='bright',  markeredgecolor=\"black\",   \n",
    "                     data=df\n",
    "                    )\n",
    "\n",
    "chart.set_title('Confirmed COVID-19 Cases')\n",
    "\n",
    "handles, labels = fix_legend(chart)\n",
    "plt.legend(handles, labels, frameon=False, loc=\"best\")\n",
    "\n",
    "plt.show();"
   ]
  },
  {
   "cell_type": "code",
   "execution_count": null,
   "metadata": {},
   "outputs": [],
   "source": [
    "plt.figure(figsize=(20,10))\n",
    "plt.style.use(\"dark_background\")\n",
    "\n",
    "chart = sns.lineplot(x='Day',\n",
    "                     y='Confirmed',\n",
    "                     hue='Country',linestyle='-', marker='o',\n",
    "                     palette='bright',    markeredgecolor=\"black\",\n",
    "                     data=df\n",
    "                    )\n",
    "\n",
    "chart.set_title('Confirmed COVID-19 Cases')\n",
    "\n",
    "handles, labels = fix_legend(chart)\n",
    "plt.legend(handles, labels, frameon=False, loc=\"best\")\n",
    "\n",
    "plt.yscale(\"log\")\n",
    "\n",
    "plt.show();"
   ]
  },
  {
   "cell_type": "code",
   "execution_count": null,
   "metadata": {},
   "outputs": [],
   "source": [
    "plt.figure(figsize=(20,10))\n",
    "plt.style.use(\"dark_background\")\n",
    "\n",
    "chart = sns.lineplot(x='Day',\n",
    "                     y='Deaths',\n",
    "                     hue='Country',linestyle='-', marker='s',\n",
    "                     palette='bright',    markeredgecolor=\"black\",\n",
    "                     data=df\n",
    "                    )\n",
    "\n",
    "chart.set_title('COVID-19 Deaths')\n",
    "\n",
    "handles, labels = fix_legend(chart, marker='s')\n",
    "plt.legend(handles, labels, frameon=False, loc=\"best\")\n",
    "\n",
    "plt.show();"
   ]
  },
  {
   "cell_type": "markdown",
   "metadata": {},
   "source": [
    "Dwa zestawy danych "
   ]
  },
  {
   "cell_type": "code",
   "execution_count": null,
   "metadata": {},
   "outputs": [],
   "source": [
    "plotdata=df\n",
    "\n",
    "plt.figure(figsize=(20,10))\n",
    "plt.style.use(\"dark_background\")\n",
    "\n",
    "chart = sns.lineplot(x='Day',\n",
    "                     y='Confirmed',\n",
    "                     hue='Country',linestyle='-', marker='o',\n",
    "                     palette='bright', markeredgecolor=\"black\",    \n",
    "                     data=plotdata\n",
    "                    )\n",
    "\n",
    "\n",
    "chart.set_title('Confirmed COVID-19 cases vs number of deaths for %d countries' % N)\n",
    "\n",
    "handles, labels = fix_legend(chart)\n",
    "plt.legend(handles, labels, frameon=False, loc=2, title=\"Confirmed\")\n",
    "\n",
    "ax2 = chart.twinx()\n",
    "\n",
    "chart2 = sns.lineplot(x='Day',\n",
    "                     y='Deaths',\n",
    "                     hue='Country', linestyle='-', marker='s',\n",
    "                     palette='bright',    \n",
    "                     data=plotdata, markeredgecolor=\"black\",\n",
    "                       ax=ax2\n",
    "                    )\n",
    "\n",
    "handles, labels = fix_legend(chart2, marker=\"s\")\n",
    "legend2 = plt.legend(handles, labels, loc=2, frameon=False, title=\"Deaths\", bbox_to_anchor=(0.15, 1))\n",
    "\n",
    "plt.show();"
   ]
  },
  {
   "cell_type": "markdown",
   "metadata": {},
   "source": [
    "Mniej krajów"
   ]
  },
  {
   "cell_type": "code",
   "execution_count": null,
   "metadata": {},
   "outputs": [],
   "source": [
    "plotdata=smaller_df\n",
    "\n",
    "plt.figure(figsize=(20,10))\n",
    "plt.style.use(\"dark_background\")\n",
    "\n",
    "chart = sns.lineplot(x='Day',\n",
    "                     y='Confirmed',\n",
    "                     hue='Country',linestyle='-', marker='o',\n",
    "                     palette='bright',  markeredgecolor=\"black\",\n",
    "                     data=plotdata\n",
    "                    )\n",
    "\n",
    "\n",
    "chart.set_title('Confirmed COVID-19 cases vs number of deaths for %d countries' % N)\n",
    "\n",
    "handles, labels = fix_legend(chart)\n",
    "plt.legend(handles, labels, frameon=False, loc=2, title=\"Confirmed\")\n",
    "\n",
    "ax2 = chart.twinx()\n",
    "\n",
    "chart2 = sns.lineplot(x='Day',\n",
    "                     y='Deaths',\n",
    "                     hue='Country', linestyle='-', marker='s',\n",
    "                     palette='bright',    markeredgecolor=\"black\",\n",
    "                     data=plotdata,\n",
    "                       ax=ax2\n",
    "                    )\n",
    "\n",
    "handles, labels = fix_legend(chart2, marker=\"s\")\n",
    "legend2 = plt.legend(handles, labels, loc=2, frameon=False, title=\"Deaths\", bbox_to_anchor=(0.15, 1))\n",
    "\n",
    "plt.show();"
   ]
  },
  {
   "cell_type": "markdown",
   "metadata": {},
   "source": [
    "## Dodanie wymiarów - stosunek między wymiarami"
   ]
  },
  {
   "cell_type": "code",
   "execution_count": null,
   "metadata": {},
   "outputs": [],
   "source": [
    "df[\"Mortality\"] = 100*df[\"Deaths\"]    / df[\"Confirmed\"] \n",
    "df[\"Recovery\"]  = 100*df[\"Recovered\"] / df[\"Confirmed\"] "
   ]
  },
  {
   "cell_type": "code",
   "execution_count": null,
   "metadata": {},
   "outputs": [],
   "source": [
    "plt.figure(figsize=(20,10))\n",
    "plt.style.use(\"dark_background\")\n",
    "\n",
    "chart = sns.lineplot(x='Day',\n",
    "                     y='Mortality',\n",
    "                     hue='Country',linestyle='-', marker='o',\n",
    "                     palette='bright',    markeredgecolor=\"black\",\n",
    "                     data=df\n",
    "                    )\n",
    "\n",
    "chart.set_title('COVID-19 Mortality')\n",
    "\n",
    "handles, labels = fix_legend(chart)\n",
    "plt.legend(handles, labels, frameon=False, loc=\"best\")\n",
    "\n",
    "plt.show();"
   ]
  },
  {
   "cell_type": "code",
   "execution_count": null,
   "metadata": {},
   "outputs": [],
   "source": [
    "plotdata=df\n",
    "\n",
    "plt.figure(figsize=(20,10))\n",
    "plt.style.use(\"dark_background\")\n",
    "\n",
    "chart = sns.lineplot(x='Day',\n",
    "                     y='Recovery',\n",
    "                     hue='Country',linestyle='-', marker='o',\n",
    "                     palette='bright',  markeredgecolor=\"black\",\n",
    "                     data=plotdata\n",
    "                    )\n",
    "\n",
    "chart.set_title('COVID-19 Recovery rate')\n",
    "\n",
    "handles, labels = fix_legend(chart)\n",
    "plt.legend(handles, labels, frameon=False, loc=\"best\")\n",
    "\n",
    "plt.show();"
   ]
  },
  {
   "cell_type": "markdown",
   "metadata": {},
   "source": [
    "## Wymiary jako funkcja kilku wierszy - różnica i średnia krocząca "
   ]
  },
  {
   "cell_type": "code",
   "execution_count": null,
   "metadata": {},
   "outputs": [],
   "source": [
    "result = []\n",
    "\n",
    "countries = df[\"Country\"].unique()\n",
    "dataframes = [ df[ df[\"Country\"] == x] for x in countries ] \n",
    "\n",
    "for m_df in dataframes:\n",
    "    country = m_df['Country'].iloc[0]\n",
    "    m_df = m_df[ [\"Day\", \"Confirmed\", \"Deaths\", \"Recovered\"] ]\n",
    "    m_df.set_index(\"Day\", inplace=True)\n",
    "    df_diff = m_df.diff()\n",
    "    df_diff.columns=[\"confirmed change\", \"deaths change\", \"recovered change\"]\n",
    "    \n",
    "    m_df = pd.concat([m_df, df_diff], axis=1, sort=False)\n",
    "    \n",
    "    m_df[\"confirmed pct change\"] = 100.0 * m_df[\"confirmed change\"] / m_df[\"Confirmed\"]\n",
    "    m_df[\"confirmed pct change\"]  = m_df[\"confirmed pct change\"].apply(lambda x: x if x > -50.0 else 0.0)\n",
    "\n",
    "    m_df[\"deaths pct change\"] = 100.0 * m_df[\"deaths change\"] / m_df[\"Deaths\"]\n",
    "    m_df[\"deaths pct change\"]  = m_df[\"deaths pct change\"].apply(lambda x: x if x > -50.0 else 0.0)\n",
    "    m_df[\"deaths pct change\"]  = m_df[\"deaths pct change\"].apply(lambda x: x if x < 399.0 else 0.0)\n",
    "    \n",
    "    m_df[\"rolling deaths change\"] = m_df[\"deaths change\"] .rolling(window=ROLL).mean()\n",
    "    m_df[\"rolling confirmed pct change\"] = m_df[\"confirmed pct change\"] .rolling(window=ROLL).mean()\n",
    "    m_df[\"rolling deaths pct change\"] = m_df[\"deaths pct change\"] .rolling(window=ROLL).mean()\n",
    "    m_df = m_df.dropna()\n",
    "    \n",
    "    m_df = m_df.sort_values(by=\"Day\")\n",
    "    m_df[\"Country\"] = country\n",
    "    m_df.reset_index(inplace=True)\n",
    "    result.append(m_df)\n",
    "    \n",
    "new_df = pd.concat(result, axis=0, sort=False)\n",
    "today = max(new_df[\"Day\"])\n",
    "d=new_df[ new_df[\"Day\"] == today].sort_values(by=['Confirmed'], ascending=False).reset_index()\n",
    "d[\"index\"] = d[\"Country\"]\n",
    "d.drop([\"Country\"], axis=1, inplace=True)\n",
    "d.head(N)"
   ]
  },
  {
   "cell_type": "code",
   "execution_count": null,
   "metadata": {},
   "outputs": [],
   "source": [
    "plotdata=new_df\n",
    "\n",
    "plt.figure(figsize=(20,10))\n",
    "plt.style.use(\"dark_background\")\n",
    "\n",
    "chart = sns.lineplot(x='Day',\n",
    "                     y='confirmed pct change',\n",
    "                     hue='Country',linestyle='-', marker='o',\n",
    "                     palette='bright', markeredgecolor=\"black\",   \n",
    "                     data=plotdata\n",
    "                    )\n",
    "\n",
    "chart.set_title('COVID-19 Confirmed percentage change')\n",
    "\n",
    "handles, labels = fix_legend(chart)\n",
    "plt.legend(handles, labels, frameon=False, loc=\"best\")\n",
    "\n",
    "plt.grid(color='grey', linestyle=':', linewidth=1, alpha=0.3, axis=\"x\")\n",
    "\n",
    "plt.show();"
   ]
  },
  {
   "cell_type": "code",
   "execution_count": null,
   "metadata": {},
   "outputs": [],
   "source": [
    "plotdata=new_df\n",
    "\n",
    "plt.figure(figsize=(20,10))\n",
    "plt.style.use(\"dark_background\")\n",
    "\n",
    "chart = sns.lineplot(x='Day',\n",
    "                     y='rolling confirmed pct change',\n",
    "                     hue='Country',linestyle='-', marker='o',\n",
    "                     palette='bright', markeredgecolor=\"black\",   \n",
    "                     data=plotdata\n",
    "                    )\n",
    "\n",
    "chart.set_title('COVID-19 Confirmed percentage change daily rolling average over %d days' % ROLL)\n",
    "\n",
    "handles, labels = fix_legend(chart)\n",
    "plt.legend(handles, labels, frameon=False, loc=\"best\")\n",
    "\n",
    "plt.show();"
   ]
  },
  {
   "cell_type": "code",
   "execution_count": null,
   "metadata": {},
   "outputs": [],
   "source": [
    "plotdata=new_df\n",
    "\n",
    "plt.figure(figsize=(20,10))\n",
    "plt.style.use(\"dark_background\")\n",
    "\n",
    "chart = sns.lineplot(x='Day',\n",
    "                     y='deaths pct change',\n",
    "                     hue='Country',linestyle='-', marker='o',\n",
    "                     palette='bright', markeredgecolor=\"black\",   \n",
    "                     data=plotdata\n",
    "                    )\n",
    "\n",
    "chart.set_title('COVID-19 Deaths change in pct daily')\n",
    "\n",
    "handles, labels = fix_legend(chart)\n",
    "plt.legend(handles, labels, frameon=False, loc=\"best\")\n",
    "\n",
    "plt.grid(color='grey', linestyle=':', linewidth=1, alpha=0.3, axis=\"x\")\n",
    "\n",
    "plt.show();"
   ]
  },
  {
   "cell_type": "code",
   "execution_count": null,
   "metadata": {},
   "outputs": [],
   "source": [
    "plotdata=new_df\n",
    "\n",
    "plt.figure(figsize=(20,10))\n",
    "plt.style.use(\"dark_background\")\n",
    "\n",
    "chart = sns.lineplot(x='Day',\n",
    "                     y='rolling deaths pct change',\n",
    "                     hue='Country',linestyle='-', marker='o',\n",
    "                     palette='bright', markeredgecolor=\"black\",   \n",
    "                     data=plotdata\n",
    "                    )\n",
    "\n",
    "chart.set_title('COVID-19 deaths change in pct daily rolling average over %d days' % ROLL)\n",
    "\n",
    "handles, labels = fix_legend(chart)\n",
    "plt.legend(handles, labels, frameon=False, loc=\"best\")\n",
    "\n",
    "\n",
    "plt.show();"
   ]
  },
  {
   "cell_type": "code",
   "execution_count": null,
   "metadata": {},
   "outputs": [],
   "source": [
    "plotdata=new_df\n",
    "\n",
    "plt.figure(figsize=(20,10))\n",
    "plt.style.use(\"dark_background\")\n",
    "\n",
    "chart = sns.lineplot(x='Day',\n",
    "                     y='deaths change',\n",
    "                     hue='Country',linestyle='-', marker='s',\n",
    "                     palette='bright', markeredgecolor=\"black\",   \n",
    "                     data=plotdata\n",
    "                    )\n",
    "\n",
    "chart.set_title('COVID-19 Daily Deaths')\n",
    "\n",
    "handles, labels = fix_legend(chart, marker=\"s\")\n",
    "plt.legend(handles, labels, frameon=False, loc=\"best\")\n",
    "\n",
    "plt.grid(color='grey', linestyle=':', linewidth=1, alpha=0.3, axis=\"y\")\n",
    "\n",
    "plt.show();"
   ]
  },
  {
   "cell_type": "code",
   "execution_count": null,
   "metadata": {},
   "outputs": [],
   "source": [
    "plotdata=new_df\n",
    "\n",
    "plt.figure(figsize=(20,10))\n",
    "plt.style.use(\"dark_background\")\n",
    "\n",
    "chart = sns.lineplot(x='Day',\n",
    "                     y='rolling deaths change',\n",
    "                     hue='Country',linestyle='-', marker='s',\n",
    "                     palette='bright', markeredgecolor=\"black\",   \n",
    "                     data=plotdata\n",
    "                    )\n",
    "\n",
    "chart.set_title('COVID-19 Daily Deaths Rolling average over %d days' % ROLL)\n",
    "\n",
    "handles, labels = fix_legend(chart, marker='s')\n",
    "plt.legend(handles, labels, frameon=False, loc=\"best\")\n",
    "\n",
    "plt.show();"
   ]
  },
  {
   "cell_type": "markdown",
   "metadata": {},
   "source": [
    "## Zmiana wymiaru _X_"
   ]
  },
  {
   "cell_type": "code",
   "execution_count": null,
   "metadata": {},
   "outputs": [],
   "source": [
    "plt.figure(figsize=(20,10))\n",
    "plt.style.use(\"dark_background\")\n",
    "plt.xscale(\"log\")\n",
    "plt.yscale(\"log\")\n",
    "\n",
    "chart = sns.lineplot(x='Confirmed',\n",
    "                     y='Deaths', \n",
    "                     hue='Country',linestyle='-', marker='o',\n",
    "                     palette='bright', markeredgecolor=\"black\",   \n",
    "                     alpha=0.5,\n",
    "                     data=df\n",
    "                    )\n",
    "\n",
    "chart.set_title('COVID-19 Mortality')\n",
    "\n",
    "handles, labels = fix_legend(chart)\n",
    "plt.legend(handles, labels, frameon=False, loc=\"best\")\n",
    "\n",
    "plt.show();"
   ]
  },
  {
   "cell_type": "markdown",
   "metadata": {},
   "source": [
    "---"
   ]
  }
 ],
 "metadata": {
  "kernelspec": {
   "display_name": "Python 3",
   "language": "python",
   "name": "python3"
  },
  "language_info": {
   "codemirror_mode": {
    "name": "ipython",
    "version": 3
   },
   "file_extension": ".py",
   "mimetype": "text/x-python",
   "name": "python",
   "nbconvert_exporter": "python",
   "pygments_lexer": "ipython3",
   "version": "3.7.5"
  }
 },
 "nbformat": 4,
 "nbformat_minor": 4
}
